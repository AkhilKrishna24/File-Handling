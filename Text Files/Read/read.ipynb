{
 "cells": [
  {
   "cell_type": "markdown",
   "metadata": {},
   "source": [
    "# Reading from a Text File\n",
    "\n",
    "- [`read()`](##read): Reading entire file\n",
    "  \n",
    "   **Arguments**\n",
    "  - **Size**  (optional): Number of bytes or characters. \n",
    "   \n",
    "    📌 **(default size: -1)** 📌\n",
    "- [`readline()`](##readline): Reading line by line **(only one line)**.\n",
    "   - **Size**  (optional): Number of bytes or characters from a line. \n",
    "   \n",
    "      📌 **(default size: -1)** 📌\n",
    "- [`readlines()`](##readlines): Reading all lines into a list"
   ]
  },
  {
   "cell_type": "markdown",
   "metadata": {},
   "source": [
    "## read()\n",
    "- Default mode is **read** mode \n",
    "  \n",
    "  So , `file = open(\"index.txt\")` and `file = open(\"index.txt\", \"r\")` ✅\n",
    "    "
   ]
  },
  {
   "cell_type": "code",
   "execution_count": 15,
   "metadata": {},
   "outputs": [
    {
     "name": "stdout",
     "output_type": "stream",
     "text": [
      "Twinkle, twinkle, little star,\n",
      "How I wonder what you are!\n",
      "Up above the world so high,\n",
      "Like a diamond in the sky.\n"
     ]
    }
   ],
   "source": [
    "file = open(\"index.txt\")\n",
    "print(file.read()) # read the entire file"
   ]
  },
  {
   "cell_type": "code",
   "execution_count": 16,
   "metadata": {},
   "outputs": [
    {
     "name": "stdout",
     "output_type": "stream",
     "text": [
      "Twinkle, t\n",
      "winkle, little star,\n"
     ]
    }
   ],
   "source": [
    "file = open(\"index.txt\")\n",
    "print(file.read(10)) # read first 10 characters\n",
    "print(file.read(20)) # read next 10 characters\n"
   ]
  },
  {
   "cell_type": "markdown",
   "metadata": {},
   "source": [
    "## Readline\n",
    "\n"
   ]
  },
  {
   "cell_type": "code",
   "execution_count": 17,
   "metadata": {},
   "outputs": [
    {
     "name": "stdout",
     "output_type": "stream",
     "text": [
      "Twinkle, twinkle, little star,\n",
      "\n",
      "How I wonder what you are!\n",
      "\n",
      "Up above the world so high,\n",
      "\n"
     ]
    }
   ],
   "source": [
    "file = open(\"index.txt\")\n",
    "print(file.readline()) # read the first line\n",
    "print(file.readline()) # read the next line\n",
    "print(file.readline()) # read the third line"
   ]
  },
  {
   "cell_type": "code",
   "execution_count": 18,
   "metadata": {},
   "outputs": [
    {
     "name": "stdout",
     "output_type": "stream",
     "text": [
      "Twink\n"
     ]
    }
   ],
   "source": [
    "file = open(\"index.txt\")\n",
    "print(file.readline(5)) # read the first 5 characters of the first line"
   ]
  },
  {
   "cell_type": "markdown",
   "metadata": {},
   "source": [
    "## Readlines"
   ]
  },
  {
   "cell_type": "code",
   "execution_count": 19,
   "metadata": {},
   "outputs": [
    {
     "name": "stdout",
     "output_type": "stream",
     "text": [
      "['Twinkle, twinkle, little star,\\n', 'How I wonder what you are!\\n', 'Up above the world so high,\\n', 'Like a diamond in the sky.']\n",
      "Type of Return value : <class 'list'>\n"
     ]
    }
   ],
   "source": [
    "file = open(\"index.txt\")\n",
    "print(file.readlines()) # read all lines and return a list\n",
    "print(\"Type of Return value :\",type(file.readlines())) # return Type of the return value\n"
   ]
  },
  {
   "cell_type": "code",
   "execution_count": 31,
   "metadata": {},
   "outputs": [
    {
     "name": "stdout",
     "output_type": "stream",
     "text": [
      "['Twinkle, twinkle, little star,\\n']\n"
     ]
    }
   ],
   "source": [
    "file = open(\"index.txt\")\n",
    "print(file.readlines(3)) \n",
    "#  readlines(3) reads enough lines to reach at least 3 bytes, but it returns full lines."
   ]
  },
  {
   "cell_type": "markdown",
   "metadata": {},
   "source": [
    "Why `Close()` ?\n",
    "\n",
    "1. **Release System Resources:**\n",
    "\n",
    "   - Opening a file allocates system resources (e.g., file handles).\n",
    "   - Not closing the file can lead to resource leaks or limits on the number of files that can be opened simultaneously.\n",
    "\n",
    "2. **Flush Changes:**\n",
    "\n",
    "   - When writing to a file, data may be buffered in memory.\n",
    "   - a.close() ensures all changes are written to the file and data in memory is flushed.\n",
    "\n",
    "3. **Avoid File Corruption:**\n",
    "\n",
    "   - Leaving a file open may cause incomplete or corrupted data if the program crashes.\n",
    "   - Properly closing the file ensures the data is saved and the file is in a usable state.\n"
   ]
  }
 ],
 "metadata": {
  "kernelspec": {
   "display_name": "SPYDER",
   "language": "python",
   "name": "python3"
  },
  "language_info": {
   "codemirror_mode": {
    "name": "ipython",
    "version": 3
   },
   "file_extension": ".py",
   "mimetype": "text/x-python",
   "name": "python",
   "nbconvert_exporter": "python",
   "pygments_lexer": "ipython3",
   "version": "3.12.1"
  }
 },
 "nbformat": 4,
 "nbformat_minor": 2
}
