{
 "cells": [
  {
   "cell_type": "markdown",
   "metadata": {},
   "source": [
    "# Reading from a Text File\n",
    "\n",
    "- [`read()`](#read): Reading entire file\n",
    "  \n",
    "   **Arguments**\n",
    "  - **Size**  (optional): Number of bytes or characters. \n",
    "   \n",
    "    📌 **(default size: -1)** 📌\n",
    "- `readline()`: Reading line by line **(only one line)**.\n",
    "- `readlines()`: Reading all lines into a list"
   ]
  },
  {
   "cell_type": "markdown",
   "metadata": {},
   "source": [
    "# read()"
   ]
  },
  {
   "cell_type": "code",
   "execution_count": null,
   "metadata": {},
   "outputs": [
    {
     "name": "stdout",
     "output_type": "stream",
     "text": [
      "Twinkle, twinkle, little star,\n",
      "How I wonder what you are!\n",
      "Up above the world so high,\n",
      "Like a diamond in the sky.\n"
     ]
    }
   ],
   "source": [
    "file = open(\"index.txt\")\n",
    "print(file.read()) # read the entire file"
   ]
  },
  {
   "cell_type": "code",
   "execution_count": 5,
   "metadata": {},
   "outputs": [
    {
     "name": "stdout",
     "output_type": "stream",
     "text": [
      "Twinkle, t\n",
      "winkle, li\n"
     ]
    }
   ],
   "source": [
    "file = open(\"index.txt\")\n",
    "print(file.read(10)) # read first 10 characters\n",
    "print(file.read(10)) # read next 10 characters\n"
   ]
  },
  {
   "cell_type": "markdown",
   "metadata": {},
   "source": [
    "Why `Close()` ?\n",
    "\n",
    "1. **Release System Resources:**\n",
    "\n",
    "   - Opening a file allocates system resources (e.g., file handles).\n",
    "   - Not closing the file can lead to resource leaks or limits on the number of files that can be opened simultaneously.\n",
    "\n",
    "2. **Flush Changes:**\n",
    "\n",
    "   - When writing to a file, data may be buffered in memory.\n",
    "   - a.close() ensures all changes are written to the file and data in memory is flushed.\n",
    "\n",
    "3. **Avoid File Corruption:**\n",
    "\n",
    "   - Leaving a file open may cause incomplete or corrupted data if the program crashes.\n",
    "   - Properly closing the file ensures the data is saved and the file is in a usable state.\n"
   ]
  }
 ],
 "metadata": {
  "kernelspec": {
   "display_name": "SPYDER",
   "language": "python",
   "name": "python3"
  },
  "language_info": {
   "codemirror_mode": {
    "name": "ipython",
    "version": 3
   },
   "file_extension": ".py",
   "mimetype": "text/x-python",
   "name": "python",
   "nbconvert_exporter": "python",
   "pygments_lexer": "ipython3",
   "version": "3.12.1"
  }
 },
 "nbformat": 4,
 "nbformat_minor": 2
}
