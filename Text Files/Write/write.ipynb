{
 "cells": [
  {
   "cell_type": "markdown",
   "metadata": {},
   "source": [
    "# Write \n",
    "- Writing to a Text File\n",
    "  - **write()**: Writing a string to a file\n",
    "  -  \n",
    "  - **writelines()**: Writing a list of strings to a file"
   ]
  },
  {
   "cell_type": "code",
   "execution_count": 1,
   "metadata": {},
   "outputs": [
    {
     "name": "stdout",
     "output_type": "stream",
     "text": [
      "8\n"
     ]
    }
   ],
   "source": [
    "file = open(\"index.txt\", \"w\")\n",
    "a = file.write(\"Namaste!\") # returns the number of characters written\n",
    "file.close() # it is important to close the file\n",
    "print(a)"
   ]
  },
  {
   "cell_type": "code",
   "execution_count": 2,
   "metadata": {},
   "outputs": [
    {
     "name": "stdout",
     "output_type": "stream",
     "text": [
      "25\n"
     ]
    }
   ],
   "source": [
    "file = open(\"index.txt\", \"w\")\n",
    "a = file.write(\"Namaste! \\nHappy learning!\") # two lines created\n",
    "file.close() # it is important to close the file\n",
    "print(a)"
   ]
  },
  {
   "cell_type": "code",
   "execution_count": 3,
   "metadata": {},
   "outputs": [
    {
     "name": "stdout",
     "output_type": "stream",
     "text": [
      "25\n"
     ]
    }
   ],
   "source": [
    "file.close() # it is important to close the file\n",
    "print(a)"
   ]
  },
  {
   "cell_type": "code",
   "execution_count": 4,
   "metadata": {},
   "outputs": [
    {
     "name": "stdout",
     "output_type": "stream",
     "text": [
      "None\n"
     ]
    }
   ],
   "source": [
    "file = open(\"input.txt\", \"w\")\n",
    "lines = ['Namaste!\\n', 'Write clean, readable code.\\n', 'Debugging is key to success.\\n'] # list of strings\n",
    "\n",
    "a = file.writelines(lines) # pass a list of strings to write them to the file\n",
    "file.close() \n",
    "print(a)"
   ]
  }
 ],
 "metadata": {
  "kernelspec": {
   "display_name": "SPYDER",
   "language": "python",
   "name": "python3"
  },
  "language_info": {
   "codemirror_mode": {
    "name": "ipython",
    "version": 3
   },
   "file_extension": ".py",
   "mimetype": "text/x-python",
   "name": "python",
   "nbconvert_exporter": "python",
   "pygments_lexer": "ipython3",
   "version": "3.12.1"
  }
 },
 "nbformat": 4,
 "nbformat_minor": 2
}
