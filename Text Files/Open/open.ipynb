{
 "cells": [
  {
   "cell_type": "markdown",
   "metadata": {},
   "source": [
    "# Opening of File \n",
    "In Python, the built-in `open()` function is used to open files. It has the following parameters:\n",
    "1. 📌 **file (required):**\n",
    "   1. The name of the file you want to open.\n",
    "   2.  It can be a string representing the [path to the file](#path-to-the-file)\n",
    "2. 📌 **mode (optional):** \n",
    "   1. 'r' (default): Open for reading (text mode).\n",
    "   2. 'w': Open for writing (truncates the file if it exists).\n",
    "   3. 'a': Open for appending (writes at the end of the file).\n",
    "   4. 'b': Binary mode (used with other modes like 'rb' or 'wb' for binary files).\n",
    "   5. 'x': Create a new file, and open it for writing (fails if the file exists). ⛔\n",
    "   \n",
    "3. buffering (optional): An integer used to set the buffering policy. Options include:\n",
    "\n",
    "   1. 0: No buffering (only in binary mode).\n",
    "   2. 1: Line buffering (only in text mode).\n",
    "4. encoding (optional): The name of the encoding used to decode or encode the file (e.g., 'utf-8').\n",
    "5. errors (optional):\n",
    "6. newline (optional):\n",
    "7. closefd (optional):\n",
    "8. opener (optional):\n",
    "\n",
    "```py\n",
    "open(file, mode='r', buffering=-1, encoding=None, errors=None, newline=None, closefd=True, opener=None)\n",
    "```\n",
    "## Path to the file\n",
    "\n",
    "1. ```py\n",
    "   a = open(\"C:\\Users\\acer\\Desktop\\index.txt\") ❌\n",
    "   ```\n",
    "  - This is **incorrect** because the **backslashes `\\`** are escape characters in Python strings. For example:\n",
    "     - `\\t` is interpreted as a tab character.\n",
    "     - `\\n` is interpreted as a newline character.\n",
    "     - `\\\\` is interpreted as a literal backslash.\n",
    "    - **Solution**\n",
    "      -  \n",
    "       - Use forwardslashes `/`  ✅\n",
    "          ```py\n",
    "          a = open(r\"C:/Users/acer/Desktop/index.txt\") \n",
    "          ```\n",
    "       - Use two backslashes `\\\\`  ✅\n",
    "          ```py\n",
    "          a = open(\"C:\\\\Users\\\\acer\\\\Desktop\\\\index.txt\")\n",
    "          ```\n",
    "       - Use **Raw String** with backslashes ✅\n",
    "          ```py\n",
    "          a = open(r\"C:\\Users\\acer\\Desktop\\index.txt\")\n",
    "          ```"
   ]
  },
  {
   "cell_type": "markdown",
   "metadata": {},
   "source": [
    "# Type "
   ]
  },
  {
   "cell_type": "code",
   "execution_count": 13,
   "metadata": {},
   "outputs": [
    {
     "name": "stdout",
     "output_type": "stream",
     "text": [
      "<class '_io.TextIOWrapper'>\n"
     ]
    }
   ],
   "source": [
    "a = open(\"./index.txt\")\n",
    "print(type(a))\n",
    "print"
   ]
  }
 ],
 "metadata": {
  "kernelspec": {
   "display_name": "SPYDER",
   "language": "python",
   "name": "python3"
  },
  "language_info": {
   "codemirror_mode": {
    "name": "ipython",
    "version": 3
   },
   "file_extension": ".py",
   "mimetype": "text/x-python",
   "name": "python",
   "nbconvert_exporter": "python",
   "pygments_lexer": "ipython3",
   "version": "3.12.1"
  }
 },
 "nbformat": 4,
 "nbformat_minor": 2
}
